{
 "cells": [
  {
   "cell_type": "code",
   "execution_count": 9,
   "metadata": {},
   "outputs": [
    {
     "name": "stdout",
     "output_type": "stream",
     "text": [
      "Longest word is: hello\n"
     ]
    }
   ],
   "source": [
    "def find_longest_word(words):\n",
    "    longest_word = words[0]\n",
    "    for item in words[1:]:\n",
    "        if len(item) > len(longest_word):\n",
    "            longest_word = item\n",
    "\n",
    "    return longest_word\n",
    "\n",
    "\n",
    "\n",
    "word_list=[\"hello\",\"how\",\"why\",\"where\",\"when\"]\n",
    "\n",
    "longest_word = find_longest_word(word_list)\n",
    "print(\"Longest word is:\", longest_word)\n",
    "\n",
    "    \n",
    "\n",
    "\n",
    "\n",
    "\n",
    "            \n",
    "\n"
   ]
  },
  {
   "cell_type": "code",
   "execution_count": null,
   "metadata": {},
   "outputs": [],
   "source": []
  }
 ],
 "metadata": {
  "kernelspec": {
   "display_name": "Python 3",
   "language": "python",
   "name": "python3"
  },
  "language_info": {
   "codemirror_mode": {
    "name": "ipython",
    "version": 3
   },
   "file_extension": ".py",
   "mimetype": "text/x-python",
   "name": "python",
   "nbconvert_exporter": "python",
   "pygments_lexer": "ipython3",
   "version": "3.10.11"
  }
 },
 "nbformat": 4,
 "nbformat_minor": 2
}
