{
 "cells": [
  {
   "cell_type": "code",
   "execution_count": 6,
   "metadata": {},
   "outputs": [
    {
     "name": "stdout",
     "output_type": "stream",
     "text": [
      "maximum is :  110\n",
      "minimum is :  1\n"
     ]
    }
   ],
   "source": [
    "def min_max(ls):\n",
    "    min = ls[0]\n",
    "    max = ls[0]\n",
    "    for i in ls[1:]:\n",
    "        if i>max:\n",
    "            max = i\n",
    "        elif i<min:\n",
    "            min = i\n",
    "    print(\"maximum is : \",max)\n",
    "    print(\"minimum is : \",min)\n",
    "\n",
    "ls = [3,5,6,78,66,99,50,110,1,8]\n",
    "min_max(ls)\n",
    "    "
   ]
  },
  {
   "cell_type": "code",
   "execution_count": null,
   "metadata": {},
   "outputs": [],
   "source": []
  }
 ],
 "metadata": {
  "kernelspec": {
   "display_name": "Python 3",
   "language": "python",
   "name": "python3"
  },
  "language_info": {
   "codemirror_mode": {
    "name": "ipython",
    "version": 3
   },
   "file_extension": ".py",
   "mimetype": "text/x-python",
   "name": "python",
   "nbconvert_exporter": "python",
   "pygments_lexer": "ipython3",
   "version": "3.10.11"
  }
 },
 "nbformat": 4,
 "nbformat_minor": 2
}
