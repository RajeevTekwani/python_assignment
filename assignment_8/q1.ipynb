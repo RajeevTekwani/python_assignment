{
 "cells": [
  {
   "cell_type": "code",
   "execution_count": null,
   "metadata": {},
   "outputs": [],
   "source": [
    "def factorial(num):\n",
    "    if num>=0:\n",
    "        fact=1\n",
    "        for i in range (num, 1, -1):\n",
    "            fact=fact*i\n",
    "        print(fact)\n",
    "    else:\n",
    "        print(\"enter valid number!!\")\n",
    "fact = int(input(\"enter number : \"))\n",
    "factorial(fact)"
   ]
  }
 ],
 "metadata": {
  "language_info": {
   "name": "python"
  }
 },
 "nbformat": 4,
 "nbformat_minor": 2
}
