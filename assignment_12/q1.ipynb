{
 "cells": [
  {
   "cell_type": "code",
   "execution_count": 10,
   "metadata": {},
   "outputs": [
    {
     "name": "stdout",
     "output_type": "stream",
     "text": [
      "[20 90  9 74 93]\n",
      "9\n",
      "93\n",
      "57.2\n",
      "3\n"
     ]
    }
   ],
   "source": [
    "import numpy as np\n",
    "def last_row(arr):\n",
    "    count = 0\n",
    "    arr1 = arr[-1]\n",
    "    print(arr1)\n",
    "    print(arr1.min())\n",
    "    print(arr1.max())\n",
    "    print(arr1.mean())\n",
    "    for items in arr1:\n",
    "        if items%2 == 0:\n",
    "            count += 1\n",
    "    print(count)\n",
    "\n",
    "arr = np.random.randint(0,100,(12,5))\n",
    "last_row(arr)"
   ]
  },
  {
   "cell_type": "code",
   "execution_count": null,
   "metadata": {},
   "outputs": [],
   "source": []
  }
 ],
 "metadata": {
  "kernelspec": {
   "display_name": "Python 3",
   "language": "python",
   "name": "python3"
  },
  "language_info": {
   "codemirror_mode": {
    "name": "ipython",
    "version": 3
   },
   "file_extension": ".py",
   "mimetype": "text/x-python",
   "name": "python",
   "nbconvert_exporter": "python",
   "pygments_lexer": "ipython3",
   "version": "3.10.11"
  }
 },
 "nbformat": 4,
 "nbformat_minor": 2
}
